{
 "cells": [
  {
   "cell_type": "markdown",
   "metadata": {},
   "source": [
    "# ENGLISH PREMIER LEAGUE ANALYSIS"
   ]
  },
  {
   "cell_type": "markdown",
   "metadata": {},
   "source": [
    "## CASE STUDY: 2020/2021 ENGLISH PREMIER LEAGUE DATA"
   ]
  },
  {
   "cell_type": "markdown",
   "metadata": {},
   "source": [
    "The aim of this study is to carry out a a descriptive statistical analysis of the 2020/2021 EPL season\n",
    "The following are the objectives:"
   ]
  },
  {
   "cell_type": "markdown",
   "metadata": {},
   "source": [
    "A. Data Wrangling\n",
    "    1. Import the necessary Python libraries\n",
    "    2. Observe the dataset for inconsistencies and carryout data imputation where necessary\n",
    "B. Exploratory Data Analysis (EDA)\n",
    "    3. Analyse statistical data of the respective clubs\n",
    "    4. Analyze the statistical data of the players\n",
    "C. Data Visualisation using Power BI"
   ]
  },
  {
   "cell_type": "markdown",
   "metadata": {},
   "source": [
    "## Data Wrangling"
   ]
  },
  {
   "cell_type": "markdown",
   "metadata": {},
   "source": [
    "### Importing the libraries and dataset"
   ]
  },
  {
   "cell_type": "markdown",
   "metadata": {},
   "source": [
    "The libraries needed for this analysis are:\n",
    "    1. Pandas: For importing the dataset and to work on the DataFrame\n",
    "    2. NumPy: To carryout respective mathematical operations on the dataset\n",
    "    3. Matplotlib: For data visualisation"
   ]
  },
  {
   "cell_type": "code",
   "execution_count": 286,
   "metadata": {
    "scrolled": true
   },
   "outputs": [],
   "source": [
    "import pandas as pd\n",
    "import seaborn as sns\n",
    "import numpy as np\n",
    "import matplotlib.pyplot as plt\n",
    "%matplotlib inline"
   ]
  },
  {
   "cell_type": "code",
   "execution_count": 15,
   "metadata": {
    "scrolled": true
   },
   "outputs": [],
   "source": [
    "df = pd.read_csv(r\"C:\\Users\\teedaniels\\Downloads\\Big Data Tracks\\Data Analysis\\Projects\\EPL2020_2021\\EPL_20_21.csv\")"
   ]
  },
  {
   "cell_type": "code",
   "execution_count": 288,
   "metadata": {},
   "outputs": [
    {
     "data": {
      "text/html": [
       "<div>\n",
       "<style scoped>\n",
       "    .dataframe tbody tr th:only-of-type {\n",
       "        vertical-align: middle;\n",
       "    }\n",
       "\n",
       "    .dataframe tbody tr th {\n",
       "        vertical-align: top;\n",
       "    }\n",
       "\n",
       "    .dataframe thead th {\n",
       "        text-align: right;\n",
       "    }\n",
       "</style>\n",
       "<table border=\"1\" class=\"dataframe\">\n",
       "  <thead>\n",
       "    <tr style=\"text-align: right;\">\n",
       "      <th></th>\n",
       "      <th>Name</th>\n",
       "      <th>Position</th>\n",
       "      <th>Age</th>\n",
       "      <th>Club</th>\n",
       "      <th>Nationality</th>\n",
       "      <th>Matches</th>\n",
       "      <th>Starts</th>\n",
       "      <th>Mins</th>\n",
       "      <th>Goals</th>\n",
       "      <th>Assists</th>\n",
       "      <th>Passes Attempted</th>\n",
       "      <th>Passes Completed (%)</th>\n",
       "      <th>Penalty Goals</th>\n",
       "      <th>Penalties Played</th>\n",
       "      <th>xG</th>\n",
       "      <th>xA</th>\n",
       "      <th>Yellow Cards</th>\n",
       "      <th>Red Cards</th>\n",
       "      <th>Goal Contribution</th>\n",
       "    </tr>\n",
       "  </thead>\n",
       "  <tbody>\n",
       "    <tr>\n",
       "      <th>0</th>\n",
       "      <td>Mason Mount</td>\n",
       "      <td>MF</td>\n",
       "      <td>21</td>\n",
       "      <td>Chelsea</td>\n",
       "      <td>ENG</td>\n",
       "      <td>36</td>\n",
       "      <td>32</td>\n",
       "      <td>2890</td>\n",
       "      <td>6</td>\n",
       "      <td>5</td>\n",
       "      <td>1881</td>\n",
       "      <td>82.3</td>\n",
       "      <td>1</td>\n",
       "      <td>1</td>\n",
       "      <td>0.21</td>\n",
       "      <td>0.24</td>\n",
       "      <td>2</td>\n",
       "      <td>0</td>\n",
       "      <td>11</td>\n",
       "    </tr>\n",
       "    <tr>\n",
       "      <th>1</th>\n",
       "      <td>Edouard Mendy</td>\n",
       "      <td>GK</td>\n",
       "      <td>28</td>\n",
       "      <td>Chelsea</td>\n",
       "      <td>SEN</td>\n",
       "      <td>31</td>\n",
       "      <td>31</td>\n",
       "      <td>2745</td>\n",
       "      <td>0</td>\n",
       "      <td>0</td>\n",
       "      <td>1007</td>\n",
       "      <td>84.6</td>\n",
       "      <td>0</td>\n",
       "      <td>0</td>\n",
       "      <td>0.00</td>\n",
       "      <td>0.00</td>\n",
       "      <td>2</td>\n",
       "      <td>0</td>\n",
       "      <td>0</td>\n",
       "    </tr>\n",
       "    <tr>\n",
       "      <th>2</th>\n",
       "      <td>Timo Werner</td>\n",
       "      <td>FW</td>\n",
       "      <td>24</td>\n",
       "      <td>Chelsea</td>\n",
       "      <td>GER</td>\n",
       "      <td>35</td>\n",
       "      <td>29</td>\n",
       "      <td>2602</td>\n",
       "      <td>6</td>\n",
       "      <td>8</td>\n",
       "      <td>826</td>\n",
       "      <td>77.2</td>\n",
       "      <td>0</td>\n",
       "      <td>0</td>\n",
       "      <td>0.41</td>\n",
       "      <td>0.21</td>\n",
       "      <td>2</td>\n",
       "      <td>0</td>\n",
       "      <td>14</td>\n",
       "    </tr>\n",
       "    <tr>\n",
       "      <th>3</th>\n",
       "      <td>Ben Chilwell</td>\n",
       "      <td>DF</td>\n",
       "      <td>23</td>\n",
       "      <td>Chelsea</td>\n",
       "      <td>ENG</td>\n",
       "      <td>27</td>\n",
       "      <td>27</td>\n",
       "      <td>2286</td>\n",
       "      <td>3</td>\n",
       "      <td>5</td>\n",
       "      <td>1806</td>\n",
       "      <td>78.6</td>\n",
       "      <td>0</td>\n",
       "      <td>0</td>\n",
       "      <td>0.10</td>\n",
       "      <td>0.11</td>\n",
       "      <td>3</td>\n",
       "      <td>0</td>\n",
       "      <td>8</td>\n",
       "    </tr>\n",
       "    <tr>\n",
       "      <th>4</th>\n",
       "      <td>Reece James</td>\n",
       "      <td>DF</td>\n",
       "      <td>20</td>\n",
       "      <td>Chelsea</td>\n",
       "      <td>ENG</td>\n",
       "      <td>32</td>\n",
       "      <td>25</td>\n",
       "      <td>2373</td>\n",
       "      <td>1</td>\n",
       "      <td>2</td>\n",
       "      <td>1987</td>\n",
       "      <td>85.0</td>\n",
       "      <td>0</td>\n",
       "      <td>0</td>\n",
       "      <td>0.06</td>\n",
       "      <td>0.12</td>\n",
       "      <td>3</td>\n",
       "      <td>0</td>\n",
       "      <td>3</td>\n",
       "    </tr>\n",
       "    <tr>\n",
       "      <th>...</th>\n",
       "      <td>...</td>\n",
       "      <td>...</td>\n",
       "      <td>...</td>\n",
       "      <td>...</td>\n",
       "      <td>...</td>\n",
       "      <td>...</td>\n",
       "      <td>...</td>\n",
       "      <td>...</td>\n",
       "      <td>...</td>\n",
       "      <td>...</td>\n",
       "      <td>...</td>\n",
       "      <td>...</td>\n",
       "      <td>...</td>\n",
       "      <td>...</td>\n",
       "      <td>...</td>\n",
       "      <td>...</td>\n",
       "      <td>...</td>\n",
       "      <td>...</td>\n",
       "      <td>...</td>\n",
       "    </tr>\n",
       "    <tr>\n",
       "      <th>527</th>\n",
       "      <td>Lys Mousset</td>\n",
       "      <td>FW</td>\n",
       "      <td>24</td>\n",
       "      <td>Sheffield United</td>\n",
       "      <td>FRA</td>\n",
       "      <td>11</td>\n",
       "      <td>2</td>\n",
       "      <td>296</td>\n",
       "      <td>0</td>\n",
       "      <td>0</td>\n",
       "      <td>50</td>\n",
       "      <td>80.0</td>\n",
       "      <td>0</td>\n",
       "      <td>0</td>\n",
       "      <td>0.22</td>\n",
       "      <td>0.10</td>\n",
       "      <td>0</td>\n",
       "      <td>0</td>\n",
       "      <td>0</td>\n",
       "    </tr>\n",
       "    <tr>\n",
       "      <th>528</th>\n",
       "      <td>Jack O'Connell</td>\n",
       "      <td>DF</td>\n",
       "      <td>26</td>\n",
       "      <td>Sheffield United</td>\n",
       "      <td>ENG</td>\n",
       "      <td>2</td>\n",
       "      <td>2</td>\n",
       "      <td>180</td>\n",
       "      <td>0</td>\n",
       "      <td>0</td>\n",
       "      <td>77</td>\n",
       "      <td>77.9</td>\n",
       "      <td>0</td>\n",
       "      <td>0</td>\n",
       "      <td>0.00</td>\n",
       "      <td>0.00</td>\n",
       "      <td>0</td>\n",
       "      <td>0</td>\n",
       "      <td>0</td>\n",
       "    </tr>\n",
       "    <tr>\n",
       "      <th>529</th>\n",
       "      <td>Iliman Ndiaye</td>\n",
       "      <td>MF</td>\n",
       "      <td>21</td>\n",
       "      <td>Sheffield United</td>\n",
       "      <td>FRA</td>\n",
       "      <td>1</td>\n",
       "      <td>0</td>\n",
       "      <td>12</td>\n",
       "      <td>0</td>\n",
       "      <td>0</td>\n",
       "      <td>3</td>\n",
       "      <td>100.0</td>\n",
       "      <td>0</td>\n",
       "      <td>0</td>\n",
       "      <td>0.00</td>\n",
       "      <td>0.00</td>\n",
       "      <td>0</td>\n",
       "      <td>0</td>\n",
       "      <td>0</td>\n",
       "    </tr>\n",
       "    <tr>\n",
       "      <th>530</th>\n",
       "      <td>Antwoine Hackford</td>\n",
       "      <td>DF</td>\n",
       "      <td>16</td>\n",
       "      <td>Sheffield United</td>\n",
       "      <td>ENG</td>\n",
       "      <td>1</td>\n",
       "      <td>0</td>\n",
       "      <td>11</td>\n",
       "      <td>0</td>\n",
       "      <td>0</td>\n",
       "      <td>1</td>\n",
       "      <td>100.0</td>\n",
       "      <td>0</td>\n",
       "      <td>0</td>\n",
       "      <td>1.16</td>\n",
       "      <td>0.00</td>\n",
       "      <td>0</td>\n",
       "      <td>0</td>\n",
       "      <td>0</td>\n",
       "    </tr>\n",
       "    <tr>\n",
       "      <th>531</th>\n",
       "      <td>Femi Seriki</td>\n",
       "      <td>DF</td>\n",
       "      <td>17</td>\n",
       "      <td>Sheffield United</td>\n",
       "      <td>ENG</td>\n",
       "      <td>1</td>\n",
       "      <td>0</td>\n",
       "      <td>1</td>\n",
       "      <td>0</td>\n",
       "      <td>0</td>\n",
       "      <td>0</td>\n",
       "      <td>-1.0</td>\n",
       "      <td>0</td>\n",
       "      <td>0</td>\n",
       "      <td>0.00</td>\n",
       "      <td>0.00</td>\n",
       "      <td>0</td>\n",
       "      <td>0</td>\n",
       "      <td>0</td>\n",
       "    </tr>\n",
       "  </tbody>\n",
       "</table>\n",
       "<p>532 rows × 19 columns</p>\n",
       "</div>"
      ],
      "text/plain": [
       "                  Name Position  Age              Club Nationality  Matches  \\\n",
       "0          Mason Mount       MF   21           Chelsea         ENG       36   \n",
       "1        Edouard Mendy       GK   28           Chelsea         SEN       31   \n",
       "2          Timo Werner       FW   24           Chelsea         GER       35   \n",
       "3         Ben Chilwell       DF   23           Chelsea         ENG       27   \n",
       "4          Reece James       DF   20           Chelsea         ENG       32   \n",
       "..                 ...      ...  ...               ...         ...      ...   \n",
       "527        Lys Mousset       FW   24  Sheffield United         FRA       11   \n",
       "528     Jack O'Connell       DF   26  Sheffield United         ENG        2   \n",
       "529      Iliman Ndiaye       MF   21  Sheffield United         FRA        1   \n",
       "530  Antwoine Hackford       DF   16  Sheffield United         ENG        1   \n",
       "531        Femi Seriki       DF   17  Sheffield United         ENG        1   \n",
       "\n",
       "     Starts  Mins  Goals  Assists  Passes Attempted  Passes Completed (%)  \\\n",
       "0        32  2890      6        5              1881                  82.3   \n",
       "1        31  2745      0        0              1007                  84.6   \n",
       "2        29  2602      6        8               826                  77.2   \n",
       "3        27  2286      3        5              1806                  78.6   \n",
       "4        25  2373      1        2              1987                  85.0   \n",
       "..      ...   ...    ...      ...               ...                   ...   \n",
       "527       2   296      0        0                50                  80.0   \n",
       "528       2   180      0        0                77                  77.9   \n",
       "529       0    12      0        0                 3                 100.0   \n",
       "530       0    11      0        0                 1                 100.0   \n",
       "531       0     1      0        0                 0                  -1.0   \n",
       "\n",
       "     Penalty Goals  Penalties Played    xG    xA  Yellow Cards  Red Cards  \\\n",
       "0                1                 1  0.21  0.24             2          0   \n",
       "1                0                 0  0.00  0.00             2          0   \n",
       "2                0                 0  0.41  0.21             2          0   \n",
       "3                0                 0  0.10  0.11             3          0   \n",
       "4                0                 0  0.06  0.12             3          0   \n",
       "..             ...               ...   ...   ...           ...        ...   \n",
       "527              0                 0  0.22  0.10             0          0   \n",
       "528              0                 0  0.00  0.00             0          0   \n",
       "529              0                 0  0.00  0.00             0          0   \n",
       "530              0                 0  1.16  0.00             0          0   \n",
       "531              0                 0  0.00  0.00             0          0   \n",
       "\n",
       "     Goal Contribution  \n",
       "0                   11  \n",
       "1                    0  \n",
       "2                   14  \n",
       "3                    8  \n",
       "4                    3  \n",
       "..                 ...  \n",
       "527                  0  \n",
       "528                  0  \n",
       "529                  0  \n",
       "530                  0  \n",
       "531                  0  \n",
       "\n",
       "[532 rows x 19 columns]"
      ]
     },
     "execution_count": 288,
     "metadata": {},
     "output_type": "execute_result"
    }
   ],
   "source": [
    "df"
   ]
  },
  {
   "cell_type": "markdown",
   "metadata": {},
   "source": [
    "### Observing the dataset for inconsistencies"
   ]
  },
  {
   "cell_type": "code",
   "execution_count": 17,
   "metadata": {
    "scrolled": false
   },
   "outputs": [
    {
     "name": "stdout",
     "output_type": "stream",
     "text": [
      "<class 'pandas.core.frame.DataFrame'>\n",
      "RangeIndex: 532 entries, 0 to 531\n",
      "Data columns (total 18 columns):\n",
      " #   Column                 Non-Null Count  Dtype  \n",
      "---  ------                 --------------  -----  \n",
      " 0   Name                   532 non-null    object \n",
      " 1   Club                   532 non-null    object \n",
      " 2   Nationality            532 non-null    object \n",
      " 3   Position               532 non-null    object \n",
      " 4   Age                    532 non-null    int64  \n",
      " 5   Matches                532 non-null    int64  \n",
      " 6   Starts                 532 non-null    int64  \n",
      " 7   Mins                   532 non-null    int64  \n",
      " 8   Goals                  532 non-null    int64  \n",
      " 9   Assists                532 non-null    int64  \n",
      " 10  Passes_Attempted       532 non-null    int64  \n",
      " 11  Perc_Passes_Completed  532 non-null    float64\n",
      " 12  Penalty_Goals          532 non-null    int64  \n",
      " 13  Penalty_Attempted      532 non-null    int64  \n",
      " 14  xG                     532 non-null    float64\n",
      " 15  xA                     532 non-null    float64\n",
      " 16  Yellow_Cards           532 non-null    int64  \n",
      " 17  Red_Cards              532 non-null    int64  \n",
      "dtypes: float64(3), int64(11), object(4)\n",
      "memory usage: 74.9+ KB\n"
     ]
    }
   ],
   "source": [
    "df.info()"
   ]
  },
  {
   "cell_type": "markdown",
   "metadata": {},
   "source": [
    "<p style=\"text-align:justify\">From above, it is evident that the dataset is consistent across all defined features (columns) and observations (rows) as there are no empty cells. We can further confirm this by using the \"isnull()\" function and \"sum()\".</p>"
   ]
  },
  {
   "cell_type": "code",
   "execution_count": 18,
   "metadata": {
    "scrolled": true
   },
   "outputs": [
    {
     "data": {
      "text/plain": [
       "Name                     0\n",
       "Club                     0\n",
       "Nationality              0\n",
       "Position                 0\n",
       "Age                      0\n",
       "Matches                  0\n",
       "Starts                   0\n",
       "Mins                     0\n",
       "Goals                    0\n",
       "Assists                  0\n",
       "Passes_Attempted         0\n",
       "Perc_Passes_Completed    0\n",
       "Penalty_Goals            0\n",
       "Penalty_Attempted        0\n",
       "xG                       0\n",
       "xA                       0\n",
       "Yellow_Cards             0\n",
       "Red_Cards                0\n",
       "dtype: int64"
      ]
     },
     "execution_count": 18,
     "metadata": {},
     "output_type": "execute_result"
    }
   ],
   "source": [
    "df.isnull().sum()"
   ]
  },
  {
   "cell_type": "markdown",
   "metadata": {},
   "source": [
    "The info() function gave us an overview of the dataset including the number of observations. However, to know the number of columns and rows in the dataset, we will use the shape() function."
   ]
  },
  {
   "cell_type": "code",
   "execution_count": 19,
   "metadata": {
    "scrolled": true
   },
   "outputs": [
    {
     "data": {
      "text/plain": [
       "(532, 18)"
      ]
     },
     "execution_count": 19,
     "metadata": {},
     "output_type": "execute_result"
    }
   ],
   "source": [
    "df.shape"
   ]
  },
  {
   "cell_type": "markdown",
   "metadata": {},
   "source": [
    "Now, let us work on the columns - dropping the unnecessary ones (i.e. does that will not be needed in this analysis)"
   ]
  },
  {
   "cell_type": "code",
   "execution_count": 20,
   "metadata": {
    "scrolled": true
   },
   "outputs": [
    {
     "name": "stdout",
     "output_type": "stream",
     "text": [
      "Name\n",
      "Club\n",
      "Nationality\n",
      "Position\n",
      "Age\n",
      "Matches\n",
      "Starts\n",
      "Mins\n",
      "Goals\n",
      "Assists\n",
      "Passes_Attempted\n",
      "Perc_Passes_Completed\n",
      "Penalty_Goals\n",
      "Penalty_Attempted\n",
      "xG\n",
      "xA\n",
      "Yellow_Cards\n",
      "Red_Cards\n"
     ]
    }
   ],
   "source": [
    "Columns = df.columns\n",
    "for column in Columns :\n",
    "    print(column)"
   ]
  },
  {
   "cell_type": "code",
   "execution_count": 21,
   "metadata": {
    "scrolled": true
   },
   "outputs": [],
   "source": [
    "df.rename(columns={\"Postion\":\"Position\", \"Perc_Passes_Completed\":\"Passes Completed (%)\", \n",
    "                   \"Penalty_Goals\":\"Penalty Goals\",\n",
    "                   \"Penalty_Attempted\":\"Penalties Played\",\n",
    "                  \"Passes_Attempted\":\"Passes Attempted\",\n",
    "                  \"Yellow_Cards\":\"Yellow Cards\",\n",
    "                  \"Red_Cards\":\"Red Cards\"}, inplace=True)"
   ]
  },
  {
   "cell_type": "code",
   "execution_count": null,
   "metadata": {
    "scrolled": true
   },
   "outputs": [],
   "source": [
    "df[[\"Position\", \"Alt Position\"]] = df[\"Position\"].str.split(\",\", expand=True)"
   ]
  },
  {
   "cell_type": "code",
   "execution_count": null,
   "metadata": {
    "scrolled": false
   },
   "outputs": [],
   "source": [
    "df.drop([\"Alt Position\", \"xA\", \"xG\"], axis=1, inplace=True)"
   ]
  },
  {
   "cell_type": "code",
   "execution_count": 293,
   "metadata": {
    "scrolled": true
   },
   "outputs": [],
   "source": [
    "df = df[['Name','Position','Age','Club','Nationality','Matches','Starts','Mins',\n",
    "       'Goals','Assists','Passes Attempted','Passes Completed (%)',\n",
    "       'Penalty Goals', 'Penalties Played', 'xG', 'xA', 'Yellow Cards',\n",
    "       'Red Cards']]"
   ]
  },
  {
   "cell_type": "code",
   "execution_count": 49,
   "metadata": {},
   "outputs": [
    {
     "data": {
      "text/plain": [
       "0"
      ]
     },
     "execution_count": 49,
     "metadata": {},
     "output_type": "execute_result"
    }
   ],
   "source": [
    "df.duplicated().sum()"
   ]
  },
  {
   "cell_type": "code",
   "execution_count": 30,
   "metadata": {
    "scrolled": false
   },
   "outputs": [
    {
     "data": {
      "text/html": [
       "<div>\n",
       "<style scoped>\n",
       "    .dataframe tbody tr th:only-of-type {\n",
       "        vertical-align: middle;\n",
       "    }\n",
       "\n",
       "    .dataframe tbody tr th {\n",
       "        vertical-align: top;\n",
       "    }\n",
       "\n",
       "    .dataframe thead th {\n",
       "        text-align: right;\n",
       "    }\n",
       "</style>\n",
       "<table border=\"1\" class=\"dataframe\">\n",
       "  <thead>\n",
       "    <tr style=\"text-align: right;\">\n",
       "      <th></th>\n",
       "      <th>Name</th>\n",
       "      <th>Position</th>\n",
       "      <th>Age</th>\n",
       "      <th>Club</th>\n",
       "      <th>Nationality</th>\n",
       "      <th>Matches</th>\n",
       "      <th>Starts</th>\n",
       "      <th>Mins</th>\n",
       "      <th>Goals</th>\n",
       "      <th>Assists</th>\n",
       "      <th>Passes Attempted</th>\n",
       "      <th>Passes Completed (%)</th>\n",
       "      <th>Penalty Goals</th>\n",
       "      <th>Penalties Played</th>\n",
       "      <th>xG</th>\n",
       "      <th>xA</th>\n",
       "      <th>Yellow Cards</th>\n",
       "      <th>Red Cards</th>\n",
       "    </tr>\n",
       "  </thead>\n",
       "  <tbody>\n",
       "    <tr>\n",
       "      <th>0</th>\n",
       "      <td>Mason Mount</td>\n",
       "      <td>MF</td>\n",
       "      <td>21</td>\n",
       "      <td>Chelsea</td>\n",
       "      <td>ENG</td>\n",
       "      <td>36</td>\n",
       "      <td>32</td>\n",
       "      <td>2890</td>\n",
       "      <td>6</td>\n",
       "      <td>5</td>\n",
       "      <td>1881</td>\n",
       "      <td>82.3</td>\n",
       "      <td>1</td>\n",
       "      <td>1</td>\n",
       "      <td>0.21</td>\n",
       "      <td>0.24</td>\n",
       "      <td>2</td>\n",
       "      <td>0</td>\n",
       "    </tr>\n",
       "    <tr>\n",
       "      <th>1</th>\n",
       "      <td>Edouard Mendy</td>\n",
       "      <td>GK</td>\n",
       "      <td>28</td>\n",
       "      <td>Chelsea</td>\n",
       "      <td>SEN</td>\n",
       "      <td>31</td>\n",
       "      <td>31</td>\n",
       "      <td>2745</td>\n",
       "      <td>0</td>\n",
       "      <td>0</td>\n",
       "      <td>1007</td>\n",
       "      <td>84.6</td>\n",
       "      <td>0</td>\n",
       "      <td>0</td>\n",
       "      <td>0.00</td>\n",
       "      <td>0.00</td>\n",
       "      <td>2</td>\n",
       "      <td>0</td>\n",
       "    </tr>\n",
       "    <tr>\n",
       "      <th>2</th>\n",
       "      <td>Timo Werner</td>\n",
       "      <td>FW</td>\n",
       "      <td>24</td>\n",
       "      <td>Chelsea</td>\n",
       "      <td>GER</td>\n",
       "      <td>35</td>\n",
       "      <td>29</td>\n",
       "      <td>2602</td>\n",
       "      <td>6</td>\n",
       "      <td>8</td>\n",
       "      <td>826</td>\n",
       "      <td>77.2</td>\n",
       "      <td>0</td>\n",
       "      <td>0</td>\n",
       "      <td>0.41</td>\n",
       "      <td>0.21</td>\n",
       "      <td>2</td>\n",
       "      <td>0</td>\n",
       "    </tr>\n",
       "    <tr>\n",
       "      <th>3</th>\n",
       "      <td>Ben Chilwell</td>\n",
       "      <td>DF</td>\n",
       "      <td>23</td>\n",
       "      <td>Chelsea</td>\n",
       "      <td>ENG</td>\n",
       "      <td>27</td>\n",
       "      <td>27</td>\n",
       "      <td>2286</td>\n",
       "      <td>3</td>\n",
       "      <td>5</td>\n",
       "      <td>1806</td>\n",
       "      <td>78.6</td>\n",
       "      <td>0</td>\n",
       "      <td>0</td>\n",
       "      <td>0.10</td>\n",
       "      <td>0.11</td>\n",
       "      <td>3</td>\n",
       "      <td>0</td>\n",
       "    </tr>\n",
       "    <tr>\n",
       "      <th>4</th>\n",
       "      <td>Reece James</td>\n",
       "      <td>DF</td>\n",
       "      <td>20</td>\n",
       "      <td>Chelsea</td>\n",
       "      <td>ENG</td>\n",
       "      <td>32</td>\n",
       "      <td>25</td>\n",
       "      <td>2373</td>\n",
       "      <td>1</td>\n",
       "      <td>2</td>\n",
       "      <td>1987</td>\n",
       "      <td>85.0</td>\n",
       "      <td>0</td>\n",
       "      <td>0</td>\n",
       "      <td>0.06</td>\n",
       "      <td>0.12</td>\n",
       "      <td>3</td>\n",
       "      <td>0</td>\n",
       "    </tr>\n",
       "    <tr>\n",
       "      <th>...</th>\n",
       "      <td>...</td>\n",
       "      <td>...</td>\n",
       "      <td>...</td>\n",
       "      <td>...</td>\n",
       "      <td>...</td>\n",
       "      <td>...</td>\n",
       "      <td>...</td>\n",
       "      <td>...</td>\n",
       "      <td>...</td>\n",
       "      <td>...</td>\n",
       "      <td>...</td>\n",
       "      <td>...</td>\n",
       "      <td>...</td>\n",
       "      <td>...</td>\n",
       "      <td>...</td>\n",
       "      <td>...</td>\n",
       "      <td>...</td>\n",
       "      <td>...</td>\n",
       "    </tr>\n",
       "    <tr>\n",
       "      <th>527</th>\n",
       "      <td>Lys Mousset</td>\n",
       "      <td>FW</td>\n",
       "      <td>24</td>\n",
       "      <td>Sheffield United</td>\n",
       "      <td>FRA</td>\n",
       "      <td>11</td>\n",
       "      <td>2</td>\n",
       "      <td>296</td>\n",
       "      <td>0</td>\n",
       "      <td>0</td>\n",
       "      <td>50</td>\n",
       "      <td>80.0</td>\n",
       "      <td>0</td>\n",
       "      <td>0</td>\n",
       "      <td>0.22</td>\n",
       "      <td>0.10</td>\n",
       "      <td>0</td>\n",
       "      <td>0</td>\n",
       "    </tr>\n",
       "    <tr>\n",
       "      <th>528</th>\n",
       "      <td>Jack O'Connell</td>\n",
       "      <td>DF</td>\n",
       "      <td>26</td>\n",
       "      <td>Sheffield United</td>\n",
       "      <td>ENG</td>\n",
       "      <td>2</td>\n",
       "      <td>2</td>\n",
       "      <td>180</td>\n",
       "      <td>0</td>\n",
       "      <td>0</td>\n",
       "      <td>77</td>\n",
       "      <td>77.9</td>\n",
       "      <td>0</td>\n",
       "      <td>0</td>\n",
       "      <td>0.00</td>\n",
       "      <td>0.00</td>\n",
       "      <td>0</td>\n",
       "      <td>0</td>\n",
       "    </tr>\n",
       "    <tr>\n",
       "      <th>529</th>\n",
       "      <td>Iliman Ndiaye</td>\n",
       "      <td>MF</td>\n",
       "      <td>21</td>\n",
       "      <td>Sheffield United</td>\n",
       "      <td>FRA</td>\n",
       "      <td>1</td>\n",
       "      <td>0</td>\n",
       "      <td>12</td>\n",
       "      <td>0</td>\n",
       "      <td>0</td>\n",
       "      <td>3</td>\n",
       "      <td>100.0</td>\n",
       "      <td>0</td>\n",
       "      <td>0</td>\n",
       "      <td>0.00</td>\n",
       "      <td>0.00</td>\n",
       "      <td>0</td>\n",
       "      <td>0</td>\n",
       "    </tr>\n",
       "    <tr>\n",
       "      <th>530</th>\n",
       "      <td>Antwoine Hackford</td>\n",
       "      <td>DF</td>\n",
       "      <td>16</td>\n",
       "      <td>Sheffield United</td>\n",
       "      <td>ENG</td>\n",
       "      <td>1</td>\n",
       "      <td>0</td>\n",
       "      <td>11</td>\n",
       "      <td>0</td>\n",
       "      <td>0</td>\n",
       "      <td>1</td>\n",
       "      <td>100.0</td>\n",
       "      <td>0</td>\n",
       "      <td>0</td>\n",
       "      <td>1.16</td>\n",
       "      <td>0.00</td>\n",
       "      <td>0</td>\n",
       "      <td>0</td>\n",
       "    </tr>\n",
       "    <tr>\n",
       "      <th>531</th>\n",
       "      <td>Femi Seriki</td>\n",
       "      <td>DF</td>\n",
       "      <td>17</td>\n",
       "      <td>Sheffield United</td>\n",
       "      <td>ENG</td>\n",
       "      <td>1</td>\n",
       "      <td>0</td>\n",
       "      <td>1</td>\n",
       "      <td>0</td>\n",
       "      <td>0</td>\n",
       "      <td>0</td>\n",
       "      <td>-1.0</td>\n",
       "      <td>0</td>\n",
       "      <td>0</td>\n",
       "      <td>0.00</td>\n",
       "      <td>0.00</td>\n",
       "      <td>0</td>\n",
       "      <td>0</td>\n",
       "    </tr>\n",
       "  </tbody>\n",
       "</table>\n",
       "<p>532 rows × 18 columns</p>\n",
       "</div>"
      ],
      "text/plain": [
       "                  Name Position  Age              Club Nationality  Matches  \\\n",
       "0          Mason Mount       MF   21           Chelsea         ENG       36   \n",
       "1        Edouard Mendy       GK   28           Chelsea         SEN       31   \n",
       "2          Timo Werner       FW   24           Chelsea         GER       35   \n",
       "3         Ben Chilwell       DF   23           Chelsea         ENG       27   \n",
       "4          Reece James       DF   20           Chelsea         ENG       32   \n",
       "..                 ...      ...  ...               ...         ...      ...   \n",
       "527        Lys Mousset       FW   24  Sheffield United         FRA       11   \n",
       "528     Jack O'Connell       DF   26  Sheffield United         ENG        2   \n",
       "529      Iliman Ndiaye       MF   21  Sheffield United         FRA        1   \n",
       "530  Antwoine Hackford       DF   16  Sheffield United         ENG        1   \n",
       "531        Femi Seriki       DF   17  Sheffield United         ENG        1   \n",
       "\n",
       "     Starts  Mins  Goals  Assists  Passes Attempted  Passes Completed (%)  \\\n",
       "0        32  2890      6        5              1881                  82.3   \n",
       "1        31  2745      0        0              1007                  84.6   \n",
       "2        29  2602      6        8               826                  77.2   \n",
       "3        27  2286      3        5              1806                  78.6   \n",
       "4        25  2373      1        2              1987                  85.0   \n",
       "..      ...   ...    ...      ...               ...                   ...   \n",
       "527       2   296      0        0                50                  80.0   \n",
       "528       2   180      0        0                77                  77.9   \n",
       "529       0    12      0        0                 3                 100.0   \n",
       "530       0    11      0        0                 1                 100.0   \n",
       "531       0     1      0        0                 0                  -1.0   \n",
       "\n",
       "     Penalty Goals  Penalties Played    xG    xA  Yellow Cards  Red Cards  \n",
       "0                1                 1  0.21  0.24             2          0  \n",
       "1                0                 0  0.00  0.00             2          0  \n",
       "2                0                 0  0.41  0.21             2          0  \n",
       "3                0                 0  0.10  0.11             3          0  \n",
       "4                0                 0  0.06  0.12             3          0  \n",
       "..             ...               ...   ...   ...           ...        ...  \n",
       "527              0                 0  0.22  0.10             0          0  \n",
       "528              0                 0  0.00  0.00             0          0  \n",
       "529              0                 0  0.00  0.00             0          0  \n",
       "530              0                 0  1.16  0.00             0          0  \n",
       "531              0                 0  0.00  0.00             0          0  \n",
       "\n",
       "[532 rows x 18 columns]"
      ]
     },
     "execution_count": 30,
     "metadata": {},
     "output_type": "execute_result"
    }
   ],
   "source": [
    "df"
   ]
  },
  {
   "cell_type": "markdown",
   "metadata": {},
   "source": [
    "## Exploratory Data Analysis"
   ]
  },
  {
   "cell_type": "markdown",
   "metadata": {},
   "source": [
    "EPL 2020-2021 Log after Gameweek 38"
   ]
  },
  {
   "cell_type": "markdown",
   "metadata": {},
   "source": [
    "<div>\n",
    "<img src=\"EPL Log 2020-2021.png\", style=\"width: 500px\", align=\"left\", alt=\"2020/2021 EPL Final Standing\">\n",
    "</div>"
   ]
  },
  {
   "cell_type": "markdown",
   "metadata": {},
   "source": [
    "Source: www.premierleague.com"
   ]
  },
  {
   "cell_type": "markdown",
   "metadata": {},
   "source": [
    "<b>CLUB ANALYSIS</b>"
   ]
  },
  {
   "cell_type": "markdown",
   "metadata": {},
   "source": [
    "Let us first observe the data by club"
   ]
  },
  {
   "cell_type": "code",
   "execution_count": 290,
   "metadata": {
    "scrolled": true
   },
   "outputs": [],
   "source": [
    "#Aggregating the data by clubs\n",
    "Group_by_Clubs = df.groupby('Club')"
   ]
  },
  {
   "cell_type": "markdown",
   "metadata": {},
   "source": [
    "<b>Goals Record</b>"
   ]
  },
  {
   "cell_type": "markdown",
   "metadata": {},
   "source": [
    "<p style=\"text-align:justify\">With this aggregation, we can begin to analyse the seasonal statistics of the clubs based on specific metrics. For instance, the cell below describes the total number of goals scored by each club across the 38 games. The sort_values() function helps us sort the clubs according to goals scored and with the \"ascending\" argument set to \"False\", they are sorted in descending order. The result below shows that Manchester City, Manchester United, Tottheham Hotspur, Liverpool, and Leicester are the most lethal in terms of goals scored with 82, 70, 66, 65, and 64 goals respectively.</p>"
   ]
  },
  {
   "cell_type": "code",
   "execution_count": 292,
   "metadata": {},
   "outputs": [
    {
     "data": {
      "text/plain": [
       "Club\n",
       "Manchester City            82\n",
       "Manchester United          70\n",
       "Tottenham Hotspur          66\n",
       "Liverpool FC               65\n",
       "Leicester City             64\n",
       "Leeds United               60\n",
       "West Ham United            60\n",
       "Chelsea                    56\n",
       "Arsenal                    53\n",
       "Aston Villa                52\n",
       "Southampton                47\n",
       "Everton                    45\n",
       "Newcastle United           44\n",
       "Crystal Palace             39\n",
       "Brighton                   39\n",
       "Wolverhampton Wanderers    34\n",
       "West Bromwich Albion       33\n",
       "Burnley                    32\n",
       "Fulham                     26\n",
       "Sheffield United           19\n",
       "Name: Goals, dtype: int64"
      ]
     },
     "execution_count": 292,
     "metadata": {},
     "output_type": "execute_result"
    }
   ],
   "source": [
    "Total_Goals = Group_by_Clubs.Goals.sum().sort_values(ascending=False)\n",
    "Total_Goals"
   ]
  },
  {
   "cell_type": "markdown",
   "metadata": {},
   "source": [
    "Now, let us observe how these clubs perform in terms of goals creation.<br>\n",
    "<p style=\"text-align:justify\">Interestingly, clubs such as Leicester City (5th), West Ham United (6th), and Leeds United (9th) had more goal assists than Liverpool (4th). At the other end of the table, we can see a trend with West Brom, Burnley, Fulham and Sheffiled United all returning the lowest numbers both in terms of goals scored and assists.<br>\n",
    "However, it seems goal totally alone is not sufficient to determine a club's final standing in the EPL as in the case of Tottenham Hotspur (3rd in both analysis) but could only end the season at 7th position.</p>"
   ]
  },
  {
   "cell_type": "code",
   "execution_count": 37,
   "metadata": {
    "scrolled": false
   },
   "outputs": [
    {
     "data": {
      "text/plain": [
       "Club\n",
       "Manchester City            55\n",
       "Manchester United          51\n",
       "Tottenham Hotspur          50\n",
       "West Ham United            46\n",
       "Leicester City             45\n",
       "Leeds United               45\n",
       "Liverpool FC               43\n",
       "Aston Villa                38\n",
       "Chelsea                    38\n",
       "Arsenal                    38\n",
       "Southampton                33\n",
       "Everton                    32\n",
       "Crystal Palace             29\n",
       "Newcastle United           26\n",
       "Brighton                   24\n",
       "Wolverhampton Wanderers    21\n",
       "Burnley                    20\n",
       "West Bromwich Albion       20\n",
       "Fulham                     18\n",
       "Sheffield United           13\n",
       "Name: Assists, dtype: int64"
      ]
     },
     "execution_count": 37,
     "metadata": {},
     "output_type": "execute_result"
    }
   ],
   "source": [
    "Total_Assists = Group_by_Clubs.Assists.sum().sort_values(ascending=False)\n",
    "Total_Assists"
   ]
  },
  {
   "cell_type": "markdown",
   "metadata": {},
   "source": [
    "Time to look at the passes attempted, and percentage of passes completed."
   ]
  },
  {
   "cell_type": "code",
   "execution_count": 39,
   "metadata": {},
   "outputs": [
    {
     "data": {
      "text/plain": [
       "Club\n",
       "Manchester City            26688\n",
       "Liverpool FC               25526\n",
       "Chelsea                    25151\n",
       "Manchester United          21960\n",
       "Arsenal                    21291\n",
       "Leicester City             20572\n",
       "Leeds United               20043\n",
       "Tottenham Hotspur          19872\n",
       "Brighton                   19456\n",
       "Fulham                     18860\n",
       "Southampton                18761\n",
       "Wolverhampton Wanderers    18661\n",
       "Everton                    18246\n",
       "Aston Villa                16556\n",
       "West Ham United            16358\n",
       "Sheffield United           15843\n",
       "Crystal Palace             15092\n",
       "Burnley                    15043\n",
       "Newcastle United           14218\n",
       "West Bromwich Albion       13646\n",
       "Name: Passes Attempted, dtype: int64"
      ]
     },
     "execution_count": 39,
     "metadata": {},
     "output_type": "execute_result"
    }
   ],
   "source": [
    "Attempted_Passes = Group_by_Clubs[\"Passes Attempted\"].sum().sort_values(ascending=False)\n",
    "Attempted_Passes"
   ]
  },
  {
   "cell_type": "markdown",
   "metadata": {},
   "source": [
    "<div style=\"text-align:justify\">The league champions, Manchester City completed the most passes (at least 1162 passes more than any other club). This should not come as a surprise as the side coached by Pep Guardiola are known for dominating games with players such as Rodri, Ruben Dias, Aymeric Laporte and Cancelo doing well in that department.\n",
    "</div>"
   ]
  },
  {
   "cell_type": "markdown",
   "metadata": {},
   "source": [
    "<b>Penalties Record</b><br>\n",
    "<p style=\"text-align:justify\">Leicester City (12) were awarded more penalties than any other club in the 2020/2021 season while Burnley (3) had the fewest. A sneek peek shows that the clubs at the bottom end of the league table had the fewever number of penalties over the season. This could be due to the fact that they were less adventurous and played less passes than the clubs at the top half of the table as they spend more time defending their boxes.</p>"
   ]
  },
  {
   "cell_type": "code",
   "execution_count": 55,
   "metadata": {
    "scrolled": false
   },
   "outputs": [
    {
     "data": {
      "text/html": [
       "<div>\n",
       "<style scoped>\n",
       "    .dataframe tbody tr th:only-of-type {\n",
       "        vertical-align: middle;\n",
       "    }\n",
       "\n",
       "    .dataframe tbody tr th {\n",
       "        vertical-align: top;\n",
       "    }\n",
       "\n",
       "    .dataframe thead th {\n",
       "        text-align: right;\n",
       "    }\n",
       "</style>\n",
       "<table border=\"1\" class=\"dataframe\">\n",
       "  <thead>\n",
       "    <tr style=\"text-align: right;\">\n",
       "      <th></th>\n",
       "      <th>Leicester City</th>\n",
       "      <th>Manchester United</th>\n",
       "      <th>Chelsea</th>\n",
       "      <th>Brighton</th>\n",
       "      <th>Manchester City</th>\n",
       "      <th>Newcastle United</th>\n",
       "      <th>Liverpool FC</th>\n",
       "      <th>Aston Villa</th>\n",
       "      <th>Fulham</th>\n",
       "      <th>Arsenal</th>\n",
       "      <th>Southampton</th>\n",
       "      <th>Everton</th>\n",
       "      <th>Tottenham Hotspur</th>\n",
       "      <th>West Ham United</th>\n",
       "      <th>Leeds United</th>\n",
       "      <th>Sheffield United</th>\n",
       "      <th>Crystal Palace</th>\n",
       "      <th>West Bromwich Albion</th>\n",
       "      <th>Wolverhampton Wanderers</th>\n",
       "      <th>Burnley</th>\n",
       "    </tr>\n",
       "  </thead>\n",
       "  <tbody>\n",
       "    <tr>\n",
       "      <th>Penalties Played</th>\n",
       "      <td>12</td>\n",
       "      <td>11</td>\n",
       "      <td>10</td>\n",
       "      <td>9</td>\n",
       "      <td>9</td>\n",
       "      <td>7</td>\n",
       "      <td>6</td>\n",
       "      <td>6</td>\n",
       "      <td>6</td>\n",
       "      <td>6</td>\n",
       "      <td>6</td>\n",
       "      <td>5</td>\n",
       "      <td>5</td>\n",
       "      <td>4</td>\n",
       "      <td>4</td>\n",
       "      <td>4</td>\n",
       "      <td>4</td>\n",
       "      <td>4</td>\n",
       "      <td>4</td>\n",
       "      <td>3</td>\n",
       "    </tr>\n",
       "    <tr>\n",
       "      <th>Penalty Goals</th>\n",
       "      <td>10</td>\n",
       "      <td>10</td>\n",
       "      <td>8</td>\n",
       "      <td>6</td>\n",
       "      <td>5</td>\n",
       "      <td>6</td>\n",
       "      <td>6</td>\n",
       "      <td>5</td>\n",
       "      <td>3</td>\n",
       "      <td>6</td>\n",
       "      <td>5</td>\n",
       "      <td>4</td>\n",
       "      <td>5</td>\n",
       "      <td>2</td>\n",
       "      <td>4</td>\n",
       "      <td>3</td>\n",
       "      <td>3</td>\n",
       "      <td>4</td>\n",
       "      <td>4</td>\n",
       "      <td>3</td>\n",
       "    </tr>\n",
       "  </tbody>\n",
       "</table>\n",
       "</div>"
      ],
      "text/plain": [
       "                  Leicester City  Manchester United  Chelsea  Brighton  \\\n",
       "Penalties Played              12                 11       10         9   \n",
       "Penalty Goals                 10                 10        8         6   \n",
       "\n",
       "                  Manchester City  Newcastle United  Liverpool FC  \\\n",
       "Penalties Played                9                 7             6   \n",
       "Penalty Goals                   5                 6             6   \n",
       "\n",
       "                  Aston Villa  Fulham  Arsenal  Southampton  Everton  \\\n",
       "Penalties Played            6       6        6            6        5   \n",
       "Penalty Goals               5       3        6            5        4   \n",
       "\n",
       "                  Tottenham Hotspur  West Ham United  Leeds United  \\\n",
       "Penalties Played                  5                4             4   \n",
       "Penalty Goals                     5                2             4   \n",
       "\n",
       "                  Sheffield United  Crystal Palace  West Bromwich Albion  \\\n",
       "Penalties Played                 4               4                     4   \n",
       "Penalty Goals                    3               3                     4   \n",
       "\n",
       "                  Wolverhampton Wanderers  Burnley  \n",
       "Penalties Played                        4        3  \n",
       "Penalty Goals                           4        3  "
      ]
     },
     "execution_count": 55,
     "metadata": {},
     "output_type": "execute_result"
    }
   ],
   "source": [
    "Played = Group_by_Clubs[\"Penalties Played\"].sum().sort_values(ascending=False)\n",
    "Scored = Group_by_Clubs[\"Penalty Goals\"].sum().sort_values(ascending=False)\n",
    "Penalties = pd.DataFrame([Played, Scored])\n",
    "Penalties"
   ]
  },
  {
   "cell_type": "markdown",
   "metadata": {},
   "source": [
    "<div style=\"text-align:justify\">\n",
    "A decent number of the clubs (35%) had a 100% penalty conversion rate over the course of the season while 20% of the clubs (West Ham United and Fulham) had just 50% of their penalties hit the back of the net.<br>\n",
    "In terms of total goals scored, just 7% of the total goals scored by both West Ham and Leeds United were from penalties with teams such as Fulham, Brighton and Sheffield United benefiting more from penalty decisions with more than 20% of their goals coming from the spot.\n",
    "</div>"
   ]
  },
  {
   "cell_type": "code",
   "execution_count": 98,
   "metadata": {},
   "outputs": [],
   "source": [
    "Penalty_Conversion = ((Scored/Played) * 100).round().sort_values(ascending=False)\n",
    "#Penalty_Conversion.sort_values(ascending=False).round()\n",
    "Penalty = pd.DataFrame(Penalty_Conversion)"
   ]
  },
  {
   "cell_type": "code",
   "execution_count": 121,
   "metadata": {
    "scrolled": false
   },
   "outputs": [
    {
     "data": {
      "text/plain": [
       "Club\n",
       "Fulham                     23.0\n",
       "Brighton                   23.0\n",
       "Sheffield United           21.0\n",
       "Leicester City             19.0\n",
       "Chelsea                    18.0\n",
       "Newcastle United           16.0\n",
       "Manchester United          16.0\n",
       "Southampton                13.0\n",
       "Aston Villa                12.0\n",
       "Wolverhampton Wanderers    12.0\n",
       "West Bromwich Albion       12.0\n",
       "Everton                    11.0\n",
       "Manchester City            11.0\n",
       "Arsenal                    11.0\n",
       "Crystal Palace             10.0\n",
       "Liverpool FC                9.0\n",
       "Burnley                     9.0\n",
       "Tottenham Hotspur           8.0\n",
       "West Ham United             7.0\n",
       "Leeds United                7.0\n",
       "dtype: float64"
      ]
     },
     "execution_count": 121,
     "metadata": {},
     "output_type": "execute_result"
    }
   ],
   "source": [
    "Penalties_Goal_Percentage = ((Played/Total_Goals) * 100).round()\n",
    "Penalties_Goal_Percentage.sort_values(ascending=False)"
   ]
  },
  {
   "cell_type": "markdown",
   "metadata": {},
   "source": [
    "<b>Discliplinary Records</b>"
   ]
  },
  {
   "cell_type": "code",
   "execution_count": 127,
   "metadata": {
    "scrolled": false
   },
   "outputs": [
    {
     "data": {
      "text/plain": [
       "Club\n",
       "Sheffield United           76\n",
       "Aston Villa                75\n",
       "Fulham                     70\n",
       "Newcastle United           68\n",
       "Manchester United          65\n",
       "Leeds United               62\n",
       "Leicester City             61\n",
       "Everton                    61\n",
       "Tottenham Hotspur          59\n",
       "Crystal Palace             58\n",
       "Wolverhampton Wanderers    56\n",
       "Southampton                55\n",
       "Brighton                   55\n",
       "West Bromwich Albion       55\n",
       "Chelsea                    54\n",
       "Arsenal                    54\n",
       "West Ham United            53\n",
       "Manchester City            48\n",
       "Burnley                    48\n",
       "Liverpool FC               40\n",
       "dtype: int64"
      ]
     },
     "execution_count": 127,
     "metadata": {},
     "output_type": "execute_result"
    }
   ],
   "source": [
    "Cards_Received = ((Group_by_Clubs[\"Red Cards\"].sum()) + \n",
    "                  (Group_by_Clubs[\"Yellow Cards\"].sum())).sort_values(ascending=False)\n",
    "Cards_Received"
   ]
  },
  {
   "cell_type": "markdown",
   "metadata": {},
   "source": [
    "<div style=\"text-align:justify\">\n",
    "A whooping 1173 cards were given out during the 2020-2021 EPL season. The chart shows the struggles of Sheffield United with 6.5% of the cards given to a player in The Blades shirt (averaging at least 2 cards per game). Liverpool (40), Burnley (48) and Manchester City (48) are the league's best in terms of fair play.\n",
    "</div>"
   ]
  },
  {
   "cell_type": "code",
   "execution_count": 175,
   "metadata": {},
   "outputs": [
    {
     "data": {
      "text/plain": [
       "Club\n",
       "Sheffield United           2.0\n",
       "Aston Villa                2.0\n",
       "Fulham                     2.0\n",
       "Newcastle United           2.0\n",
       "Manchester United          2.0\n",
       "Leeds United               2.0\n",
       "Leicester City             2.0\n",
       "Everton                    2.0\n",
       "Tottenham Hotspur          2.0\n",
       "Crystal Palace             2.0\n",
       "Wolverhampton Wanderers    1.0\n",
       "Southampton                1.0\n",
       "Brighton                   1.0\n",
       "West Bromwich Albion       1.0\n",
       "Chelsea                    1.0\n",
       "Arsenal                    1.0\n",
       "West Ham United            1.0\n",
       "Manchester City            1.0\n",
       "Burnley                    1.0\n",
       "Liverpool FC               1.0\n",
       "dtype: float64"
      ]
     },
     "execution_count": 175,
     "metadata": {},
     "output_type": "execute_result"
    }
   ],
   "source": [
    "Cards_per_game = (Cards_Received/38).round()\n",
    "Cards_per_game"
   ]
  },
  {
   "cell_type": "markdown",
   "metadata": {
    "scrolled": true
   },
   "source": [
    "<b>PLAYER STATISTICS</b>"
   ]
  },
  {
   "cell_type": "markdown",
   "metadata": {},
   "source": [
    "Objectives:\n",
    "    1. Who are the leagues most lethal scorers?\n",
    "    2. Who are the leagues top assist makers\n",
    "    3. Who are the best passers\n",
    "    4. Who are the dirtiest and most disciplined players?"
   ]
  },
  {
   "cell_type": "markdown",
   "metadata": {},
   "source": [
    "<b>Goals</b>"
   ]
  },
  {
   "cell_type": "code",
   "execution_count": 285,
   "metadata": {},
   "outputs": [
    {
     "data": {
      "text/html": [
       "<div>\n",
       "<style scoped>\n",
       "    .dataframe tbody tr th:only-of-type {\n",
       "        vertical-align: middle;\n",
       "    }\n",
       "\n",
       "    .dataframe tbody tr th {\n",
       "        vertical-align: top;\n",
       "    }\n",
       "\n",
       "    .dataframe thead th {\n",
       "        text-align: right;\n",
       "    }\n",
       "</style>\n",
       "<table border=\"1\" class=\"dataframe\">\n",
       "  <thead>\n",
       "    <tr style=\"text-align: right;\">\n",
       "      <th></th>\n",
       "      <th>Name</th>\n",
       "      <th>Club</th>\n",
       "      <th>Goals</th>\n",
       "    </tr>\n",
       "  </thead>\n",
       "  <tbody>\n",
       "    <tr>\n",
       "      <th>0</th>\n",
       "      <td>Harry Kane</td>\n",
       "      <td>Tottenham Hotspur</td>\n",
       "      <td>23</td>\n",
       "    </tr>\n",
       "    <tr>\n",
       "      <th>1</th>\n",
       "      <td>Mohamed Salah</td>\n",
       "      <td>Liverpool FC</td>\n",
       "      <td>22</td>\n",
       "    </tr>\n",
       "    <tr>\n",
       "      <th>2</th>\n",
       "      <td>Bruno Fernandes</td>\n",
       "      <td>Manchester United</td>\n",
       "      <td>18</td>\n",
       "    </tr>\n",
       "    <tr>\n",
       "      <th>3</th>\n",
       "      <td>Patrick Bamford</td>\n",
       "      <td>Leeds United</td>\n",
       "      <td>17</td>\n",
       "    </tr>\n",
       "    <tr>\n",
       "      <th>4</th>\n",
       "      <td>Son Heung-min</td>\n",
       "      <td>Tottenham Hotspur</td>\n",
       "      <td>17</td>\n",
       "    </tr>\n",
       "  </tbody>\n",
       "</table>\n",
       "</div>"
      ],
      "text/plain": [
       "              Name               Club  Goals\n",
       "0       Harry Kane  Tottenham Hotspur     23\n",
       "1    Mohamed Salah       Liverpool FC     22\n",
       "2  Bruno Fernandes  Manchester United     18\n",
       "3  Patrick Bamford       Leeds United     17\n",
       "4    Son Heung-min  Tottenham Hotspur     17"
      ]
     },
     "execution_count": 285,
     "metadata": {},
     "output_type": "execute_result"
    }
   ],
   "source": [
    "Goal_Scorers = (df[[\"Name\", \"Club\", \"Goals\"]]).sort_values(by=\"Goals\", ascending=False)\n",
    "Goal_Scorers.reset_index(drop=True).head(5)"
   ]
  },
  {
   "cell_type": "code",
   "execution_count": 284,
   "metadata": {},
   "outputs": [
    {
     "data": {
      "text/html": [
       "<div>\n",
       "<style scoped>\n",
       "    .dataframe tbody tr th:only-of-type {\n",
       "        vertical-align: middle;\n",
       "    }\n",
       "\n",
       "    .dataframe tbody tr th {\n",
       "        vertical-align: top;\n",
       "    }\n",
       "\n",
       "    .dataframe thead th {\n",
       "        text-align: right;\n",
       "    }\n",
       "</style>\n",
       "<table border=\"1\" class=\"dataframe\">\n",
       "  <thead>\n",
       "    <tr style=\"text-align: right;\">\n",
       "      <th></th>\n",
       "      <th>Name</th>\n",
       "      <th>Club</th>\n",
       "      <th>Assists</th>\n",
       "    </tr>\n",
       "  </thead>\n",
       "  <tbody>\n",
       "    <tr>\n",
       "      <th>0</th>\n",
       "      <td>Harry Kane</td>\n",
       "      <td>Tottenham Hotspur</td>\n",
       "      <td>14</td>\n",
       "    </tr>\n",
       "    <tr>\n",
       "      <th>1</th>\n",
       "      <td>Kevin De Bruyne</td>\n",
       "      <td>Manchester City</td>\n",
       "      <td>12</td>\n",
       "    </tr>\n",
       "    <tr>\n",
       "      <th>2</th>\n",
       "      <td>Bruno Fernandes</td>\n",
       "      <td>Manchester United</td>\n",
       "      <td>12</td>\n",
       "    </tr>\n",
       "    <tr>\n",
       "      <th>3</th>\n",
       "      <td>Jack Grealish</td>\n",
       "      <td>Aston Villa</td>\n",
       "      <td>10</td>\n",
       "    </tr>\n",
       "    <tr>\n",
       "      <th>4</th>\n",
       "      <td>Son Heung-min</td>\n",
       "      <td>Tottenham Hotspur</td>\n",
       "      <td>10</td>\n",
       "    </tr>\n",
       "  </tbody>\n",
       "</table>\n",
       "</div>"
      ],
      "text/plain": [
       "              Name               Club  Assists\n",
       "0       Harry Kane  Tottenham Hotspur       14\n",
       "1  Kevin De Bruyne    Manchester City       12\n",
       "2  Bruno Fernandes  Manchester United       12\n",
       "3    Jack Grealish        Aston Villa       10\n",
       "4    Son Heung-min  Tottenham Hotspur       10"
      ]
     },
     "execution_count": 284,
     "metadata": {},
     "output_type": "execute_result"
    }
   ],
   "source": [
    "Assist_Leaders = (df[[\"Name\", \"Club\", \"Assists\"]]).sort_values(by=\"Assists\", ascending=False)\n",
    "Assist_Leaders.reset_index(drop=True).head(5)"
   ]
  },
  {
   "cell_type": "code",
   "execution_count": 283,
   "metadata": {
    "scrolled": false
   },
   "outputs": [
    {
     "data": {
      "text/html": [
       "<div>\n",
       "<style scoped>\n",
       "    .dataframe tbody tr th:only-of-type {\n",
       "        vertical-align: middle;\n",
       "    }\n",
       "\n",
       "    .dataframe tbody tr th {\n",
       "        vertical-align: top;\n",
       "    }\n",
       "\n",
       "    .dataframe thead th {\n",
       "        text-align: right;\n",
       "    }\n",
       "</style>\n",
       "<table border=\"1\" class=\"dataframe\">\n",
       "  <thead>\n",
       "    <tr style=\"text-align: right;\">\n",
       "      <th></th>\n",
       "      <th>Name</th>\n",
       "      <th>Club</th>\n",
       "      <th>Goal Contribution</th>\n",
       "    </tr>\n",
       "  </thead>\n",
       "  <tbody>\n",
       "    <tr>\n",
       "      <th>0</th>\n",
       "      <td>Harry Kane</td>\n",
       "      <td>Tottenham Hotspur</td>\n",
       "      <td>37</td>\n",
       "    </tr>\n",
       "    <tr>\n",
       "      <th>1</th>\n",
       "      <td>Bruno Fernandes</td>\n",
       "      <td>Manchester United</td>\n",
       "      <td>30</td>\n",
       "    </tr>\n",
       "    <tr>\n",
       "      <th>2</th>\n",
       "      <td>Mohamed Salah</td>\n",
       "      <td>Liverpool FC</td>\n",
       "      <td>27</td>\n",
       "    </tr>\n",
       "    <tr>\n",
       "      <th>3</th>\n",
       "      <td>Son Heung-min</td>\n",
       "      <td>Tottenham Hotspur</td>\n",
       "      <td>27</td>\n",
       "    </tr>\n",
       "    <tr>\n",
       "      <th>4</th>\n",
       "      <td>Jamie Vardy</td>\n",
       "      <td>Leicester City</td>\n",
       "      <td>24</td>\n",
       "    </tr>\n",
       "  </tbody>\n",
       "</table>\n",
       "</div>"
      ],
      "text/plain": [
       "              Name               Club  Goal Contribution\n",
       "0       Harry Kane  Tottenham Hotspur                 37\n",
       "1  Bruno Fernandes  Manchester United                 30\n",
       "2    Mohamed Salah       Liverpool FC                 27\n",
       "3    Son Heung-min  Tottenham Hotspur                 27\n",
       "4      Jamie Vardy     Leicester City                 24"
      ]
     },
     "execution_count": 283,
     "metadata": {},
     "output_type": "execute_result"
    }
   ],
   "source": [
    "df[\"Goal Contribution\"] = (df[\"Goals\"]) + (df[\"Assists\"])\n",
    "Goal_Contribution = (df[[\"Name\", \"Club\", \"Goal Contribution\"]]).sort_values(by=\"Goal Contribution\", ascending=False)\n",
    "Goal_Contribution.reset_index(drop=True).head(5)"
   ]
  },
  {
   "cell_type": "markdown",
   "metadata": {},
   "source": [
    "<b>Passes</b>"
   ]
  },
  {
   "cell_type": "code",
   "execution_count": 282,
   "metadata": {},
   "outputs": [
    {
     "data": {
      "text/html": [
       "<div>\n",
       "<style scoped>\n",
       "    .dataframe tbody tr th:only-of-type {\n",
       "        vertical-align: middle;\n",
       "    }\n",
       "\n",
       "    .dataframe tbody tr th {\n",
       "        vertical-align: top;\n",
       "    }\n",
       "\n",
       "    .dataframe thead th {\n",
       "        text-align: right;\n",
       "    }\n",
       "</style>\n",
       "<table border=\"1\" class=\"dataframe\">\n",
       "  <thead>\n",
       "    <tr style=\"text-align: right;\">\n",
       "      <th></th>\n",
       "      <th>Name</th>\n",
       "      <th>Club</th>\n",
       "      <th>Passes Attempted</th>\n",
       "    </tr>\n",
       "  </thead>\n",
       "  <tbody>\n",
       "    <tr>\n",
       "      <th>0</th>\n",
       "      <td>Andrew Robertson</td>\n",
       "      <td>Liverpool FC</td>\n",
       "      <td>3214</td>\n",
       "    </tr>\n",
       "    <tr>\n",
       "      <th>1</th>\n",
       "      <td>Trent Alexander-Arnold</td>\n",
       "      <td>Liverpool FC</td>\n",
       "      <td>2941</td>\n",
       "    </tr>\n",
       "    <tr>\n",
       "      <th>2</th>\n",
       "      <td>Rodri</td>\n",
       "      <td>Manchester City</td>\n",
       "      <td>2728</td>\n",
       "    </tr>\n",
       "    <tr>\n",
       "      <th>3</th>\n",
       "      <td>Pierre Højbjerg</td>\n",
       "      <td>Tottenham Hotspur</td>\n",
       "      <td>2687</td>\n",
       "    </tr>\n",
       "    <tr>\n",
       "      <th>4</th>\n",
       "      <td>Rúben Dias</td>\n",
       "      <td>Manchester City</td>\n",
       "      <td>2671</td>\n",
       "    </tr>\n",
       "  </tbody>\n",
       "</table>\n",
       "</div>"
      ],
      "text/plain": [
       "                     Name               Club  Passes Attempted\n",
       "0        Andrew Robertson       Liverpool FC              3214\n",
       "1  Trent Alexander-Arnold       Liverpool FC              2941\n",
       "2                   Rodri    Manchester City              2728\n",
       "3         Pierre Højbjerg  Tottenham Hotspur              2687\n",
       "4              Rúben Dias    Manchester City              2671"
      ]
     },
     "execution_count": 282,
     "metadata": {},
     "output_type": "execute_result"
    }
   ],
   "source": [
    "Pass_Attempts = df[[\"Name\", \"Club\", \"Passes Attempted\"]].sort_values(by=\"Passes Attempted\",ascending=False)\n",
    "Pass_Attempts.reset_index(drop=True).head(5)"
   ]
  },
  {
   "cell_type": "code",
   "execution_count": 281,
   "metadata": {},
   "outputs": [
    {
     "data": {
      "text/html": [
       "<div>\n",
       "<style scoped>\n",
       "    .dataframe tbody tr th:only-of-type {\n",
       "        vertical-align: middle;\n",
       "    }\n",
       "\n",
       "    .dataframe tbody tr th {\n",
       "        vertical-align: top;\n",
       "    }\n",
       "\n",
       "    .dataframe thead th {\n",
       "        text-align: right;\n",
       "    }\n",
       "</style>\n",
       "<table border=\"1\" class=\"dataframe\">\n",
       "  <thead>\n",
       "    <tr style=\"text-align: right;\">\n",
       "      <th></th>\n",
       "      <th>Name</th>\n",
       "      <th>Passes Attempted</th>\n",
       "      <th>Passes Completed (%)</th>\n",
       "    </tr>\n",
       "  </thead>\n",
       "  <tbody>\n",
       "    <tr>\n",
       "      <th>0</th>\n",
       "      <td>Andrew Robertson</td>\n",
       "      <td>3214</td>\n",
       "      <td>79.9</td>\n",
       "    </tr>\n",
       "    <tr>\n",
       "      <th>1</th>\n",
       "      <td>Trent Alexander-Arnold</td>\n",
       "      <td>2941</td>\n",
       "      <td>75.3</td>\n",
       "    </tr>\n",
       "    <tr>\n",
       "      <th>2</th>\n",
       "      <td>Rodri</td>\n",
       "      <td>2728</td>\n",
       "      <td>91.5</td>\n",
       "    </tr>\n",
       "    <tr>\n",
       "      <th>3</th>\n",
       "      <td>Pierre Højbjerg</td>\n",
       "      <td>2687</td>\n",
       "      <td>88.9</td>\n",
       "    </tr>\n",
       "    <tr>\n",
       "      <th>4</th>\n",
       "      <td>Rúben Dias</td>\n",
       "      <td>2671</td>\n",
       "      <td>93.6</td>\n",
       "    </tr>\n",
       "  </tbody>\n",
       "</table>\n",
       "</div>"
      ],
      "text/plain": [
       "                     Name  Passes Attempted  Passes Completed (%)\n",
       "0        Andrew Robertson              3214                  79.9\n",
       "1  Trent Alexander-Arnold              2941                  75.3\n",
       "2                   Rodri              2728                  91.5\n",
       "3         Pierre Højbjerg              2687                  88.9\n",
       "4              Rúben Dias              2671                  93.6"
      ]
     },
     "execution_count": 281,
     "metadata": {},
     "output_type": "execute_result"
    }
   ],
   "source": [
    "Pass_Completion = df[[\"Name\", \"Passes Attempted\", \"Passes Completed (%)\"]].sort_values(by=\"Passes Attempted\",\n",
    "                ascending=False)\n",
    "Pass_Completion.reset_index(drop=True).head(5)"
   ]
  },
  {
   "cell_type": "markdown",
   "metadata": {},
   "source": [
    "<b>Card Records</b>"
   ]
  },
  {
   "cell_type": "code",
   "execution_count": 280,
   "metadata": {},
   "outputs": [
    {
     "data": {
      "text/html": [
       "<div>\n",
       "<style scoped>\n",
       "    .dataframe tbody tr th:only-of-type {\n",
       "        vertical-align: middle;\n",
       "    }\n",
       "\n",
       "    .dataframe tbody tr th {\n",
       "        vertical-align: top;\n",
       "    }\n",
       "\n",
       "    .dataframe thead th {\n",
       "        text-align: right;\n",
       "    }\n",
       "</style>\n",
       "<table border=\"1\" class=\"dataframe\">\n",
       "  <thead>\n",
       "    <tr style=\"text-align: right;\">\n",
       "      <th></th>\n",
       "      <th>Name</th>\n",
       "      <th>Position</th>\n",
       "      <th>Yellow Cards</th>\n",
       "    </tr>\n",
       "  </thead>\n",
       "  <tbody>\n",
       "    <tr>\n",
       "      <th>0</th>\n",
       "      <td>John McGinn</td>\n",
       "      <td>MF</td>\n",
       "      <td>12</td>\n",
       "    </tr>\n",
       "    <tr>\n",
       "      <th>1</th>\n",
       "      <td>Harry Maguire</td>\n",
       "      <td>DF</td>\n",
       "      <td>11</td>\n",
       "    </tr>\n",
       "    <tr>\n",
       "      <th>2</th>\n",
       "      <td>Conor Gallagher</td>\n",
       "      <td>MF</td>\n",
       "      <td>11</td>\n",
       "    </tr>\n",
       "    <tr>\n",
       "      <th>3</th>\n",
       "      <td>Kalvin Phillips</td>\n",
       "      <td>MF</td>\n",
       "      <td>10</td>\n",
       "    </tr>\n",
       "    <tr>\n",
       "      <th>4</th>\n",
       "      <td>Douglas Luiz</td>\n",
       "      <td>MF</td>\n",
       "      <td>10</td>\n",
       "    </tr>\n",
       "  </tbody>\n",
       "</table>\n",
       "</div>"
      ],
      "text/plain": [
       "              Name Position  Yellow Cards\n",
       "0      John McGinn       MF            12\n",
       "1    Harry Maguire       DF            11\n",
       "2  Conor Gallagher       MF            11\n",
       "3  Kalvin Phillips       MF            10\n",
       "4     Douglas Luiz       MF            10"
      ]
     },
     "execution_count": 280,
     "metadata": {},
     "output_type": "execute_result"
    }
   ],
   "source": [
    "Yellow_Cards = df[[\"Name\", \"Position\", \"Yellow Cards\"]].sort_values(by=\"Yellow Cards\", ascending=False)\n",
    "Yellow_Cards.reset_index(drop=True).head(5)"
   ]
  },
  {
   "cell_type": "code",
   "execution_count": 279,
   "metadata": {},
   "outputs": [
    {
     "data": {
      "text/html": [
       "<div>\n",
       "<style scoped>\n",
       "    .dataframe tbody tr th:only-of-type {\n",
       "        vertical-align: middle;\n",
       "    }\n",
       "\n",
       "    .dataframe tbody tr th {\n",
       "        vertical-align: top;\n",
       "    }\n",
       "\n",
       "    .dataframe thead th {\n",
       "        text-align: right;\n",
       "    }\n",
       "</style>\n",
       "<table border=\"1\" class=\"dataframe\">\n",
       "  <thead>\n",
       "    <tr style=\"text-align: right;\">\n",
       "      <th></th>\n",
       "      <th>Name</th>\n",
       "      <th>Position</th>\n",
       "      <th>Red Cards</th>\n",
       "    </tr>\n",
       "  </thead>\n",
       "  <tbody>\n",
       "    <tr>\n",
       "      <th>0</th>\n",
       "      <td>Lewis Dunk</td>\n",
       "      <td>DF</td>\n",
       "      <td>2</td>\n",
       "    </tr>\n",
       "    <tr>\n",
       "      <th>1</th>\n",
       "      <td>Matt Doherty</td>\n",
       "      <td>DF</td>\n",
       "      <td>1</td>\n",
       "    </tr>\n",
       "    <tr>\n",
       "      <th>2</th>\n",
       "      <td>John Egan</td>\n",
       "      <td>DF</td>\n",
       "      <td>1</td>\n",
       "    </tr>\n",
       "    <tr>\n",
       "      <th>3</th>\n",
       "      <td>Semi Ajayi</td>\n",
       "      <td>DF</td>\n",
       "      <td>1</td>\n",
       "    </tr>\n",
       "    <tr>\n",
       "      <th>4</th>\n",
       "      <td>João Cancelo</td>\n",
       "      <td>DF</td>\n",
       "      <td>1</td>\n",
       "    </tr>\n",
       "  </tbody>\n",
       "</table>\n",
       "</div>"
      ],
      "text/plain": [
       "           Name Position  Red Cards\n",
       "0    Lewis Dunk       DF          2\n",
       "1  Matt Doherty       DF          1\n",
       "2     John Egan       DF          1\n",
       "3    Semi Ajayi       DF          1\n",
       "4  João Cancelo       DF          1"
      ]
     },
     "execution_count": 279,
     "metadata": {},
     "output_type": "execute_result"
    }
   ],
   "source": [
    "Red_Cards = df[[\"Name\", \"Position\", \"Red Cards\"]].sort_values(by=\"Red Cards\", ascending=False)\n",
    "Red_Cards.reset_index(drop=True).head(5)"
   ]
  },
  {
   "cell_type": "code",
   "execution_count": null,
   "metadata": {},
   "outputs": [],
   "source": []
  }
 ],
 "metadata": {
  "kernelspec": {
   "display_name": "Python 3",
   "language": "python",
   "name": "python3"
  },
  "language_info": {
   "codemirror_mode": {
    "name": "ipython",
    "version": 3
   },
   "file_extension": ".py",
   "mimetype": "text/x-python",
   "name": "python",
   "nbconvert_exporter": "python",
   "pygments_lexer": "ipython3",
   "version": "3.8.3"
  }
 },
 "nbformat": 4,
 "nbformat_minor": 4
}
